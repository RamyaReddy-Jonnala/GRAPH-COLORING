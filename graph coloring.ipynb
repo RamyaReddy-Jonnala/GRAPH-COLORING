{
 "cells": [
  {
   "cell_type": "code",
   "execution_count": 5,
   "id": "a38acbad-b50a-4148-9a40-d28ce674e4db",
   "metadata": {},
   "outputs": [
    {
     "name": "stdout",
     "output_type": "stream",
     "text": [
      "Graph coloring (no two adjacent nodes have the same color):\n",
      "A: Red\n",
      "B: Green\n",
      "E: Red\n",
      "C: Green\n",
      "D: Green\n"
     ]
    }
   ],
   "source": [
    "//Solution for Problem 5: Graph Coloring (3 Colors)\n",
    "\n",
    "def graph_coloring(graph):\n",
    "    colors = {}\n",
    "    available_colors = ['Red', 'Green', 'Blue'] \n",
    "    def is_safe(node, color):\n",
    "        for neighbor in graph[node]:\n",
    "            if neighbor in colors and colors[neighbor] == color:\n",
    "                return False\n",
    "        return True\n",
    "    def backtrack(node):\n",
    "        if node not in colors:\n",
    "            for color in available_colors:\n",
    "                if is_safe(node, color):\n",
    "                    colors[node] = color\n",
    "                    success = True\n",
    "                    for neighbor in graph[node]:\n",
    "                        if neighbor not in colors:\n",
    "                            if not backtrack(neighbor):\n",
    "                                success = False\n",
    "                                break\n",
    "                    if success:\n",
    "                        return True\n",
    "                    colors.pop(node)\n",
    "            return False\n",
    "        return True\n",
    "    \n",
    "    for node in graph:\n",
    "        if node not in colors:\n",
    "            if not backtrack(node):\n",
    "                return None\n",
    "    return colors\n",
    "graph = {\n",
    "    'A': ['B', 'C', 'D'],\n",
    "    'B': ['A', 'E'],\n",
    "    'C': ['A', 'E'],\n",
    "    'D': ['A', 'E'],\n",
    "    'E': ['B', 'C', 'D']\n",
    "}\n",
    "coloring = graph_coloring(graph)\n",
    "if coloring:\n",
    "    print(\"Graph coloring (no two adjacent nodes have the same color):\")\n",
    "    for node, color in coloring.items():\n",
    "        print(f\"{node}: {color}\")\n",
    "else:\n",
    "    print(\"No valid 3-coloring exists for this graph.\")"
   ]
  },
  {
   "cell_type": "code",
   "execution_count": null,
   "id": "8a2e8df8-459b-4ca3-acf0-639e7c400123",
   "metadata": {},
   "outputs": [],
   "source": []
  }
 ],
 "metadata": {
  "kernelspec": {
   "display_name": "Python 3 (ipykernel)",
   "language": "python",
   "name": "python3"
  },
  "language_info": {
   "codemirror_mode": {
    "name": "ipython",
    "version": 3
   },
   "file_extension": ".py",
   "mimetype": "text/x-python",
   "name": "python",
   "nbconvert_exporter": "python",
   "pygments_lexer": "ipython3",
   "version": "3.12.4"
  }
 },
 "nbformat": 4,
 "nbformat_minor": 5
}
